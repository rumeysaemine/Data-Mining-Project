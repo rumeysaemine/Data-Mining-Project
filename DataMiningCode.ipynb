{
 "cells": [
  {
   "cell_type": "markdown",
   "metadata": {},
   "source": [
    "# Chess (King-Rook vs. King) Veri Seti\n",
    "Santranç son oyunu, tahtada birkaç taşın kaldığı bir durumdur. Karşı tarafın Şah-Kale’sine karşı Şah’a sahip olmak yaygın bir santranç oyunsonudur. \n",
    "Satranç oyununun sonucunu tahmin etmek için farklı algoritmalar kullanan birçok çalışma vardır. Bu çalışma Satranç Oyunsonu probleminin karar ağaçları yöntemi ile sınıflandırılması üzerinedir. "
   ]
  },
  {
   "cell_type": "markdown",
   "metadata": {},
   "source": [
    "## 1. Adım: Veri Setini İndirme ve İnceleme\n",
    "https://archive.ics.uci.edu/ml/machine-learning-databases/chess/king-rook-vs-king/ adresinden krkopt.data veri seti indirilir."
   ]
  },
  {
   "cell_type": "code",
   "execution_count": 3,
   "metadata": {},
   "outputs": [],
   "source": [
    "import pandas as pd\n",
    "\n",
    "# .data uzantılı veri setini yüklenir\n",
    "data = pd.read_csv('https://archive.ics.uci.edu/ml/machine-learning-databases/chess/king-rook-vs-king/krkopt.data',delimiter=',')\n",
    "\n",
    "# .csv uzantılı dosyaya dönüştürülür ve kaydedilir\n",
    "data.to_csv('krkopt.csv', index=False)"
   ]
  },
  {
   "cell_type": "code",
   "execution_count": 1,
   "metadata": {},
   "outputs": [],
   "source": [
    "# Veri analizi ve görselleştirme için kullanılanacak Python kütüphaneleri (Pandas, Matplotlib ve Seaborn) içe aktarılır.\n",
    "import pandas as pd\n",
    "import matplotlib.pyplot as plt\n",
    "import seaborn as sbn"
   ]
  },
  {
   "cell_type": "code",
   "execution_count": 2,
   "metadata": {},
   "outputs": [],
   "source": [
    "dataFrame = pd.read_csv(\"krkopt.csv\", header=None)    # krkopt.csv dosyası okunur."
   ]
  },
  {
   "cell_type": "code",
   "execution_count": 3,
   "metadata": {},
   "outputs": [
    {
     "data": {
      "text/plain": [
       "Index(['beyaz_kral_dikey', 'beyaz_kral_yatay', 'beyaz_kale_dikey',\n",
       "       'beyaz_kale_yatay', 'siyah_kral_dikey', 'siyah_kral_yatay', 'Sınıflar'],\n",
       "      dtype='object')"
      ]
     },
     "execution_count": 3,
     "metadata": {},
     "output_type": "execute_result"
    }
   ],
   "source": [
    "# Sütun başlıkları belirlenir\n",
    "column_names = ['beyaz_kral_dikey', 'beyaz_kral_yatay', 'beyaz_kale_dikey', 'beyaz_kale_yatay', 'siyah_kral_dikey', 'siyah_kral_yatay', 'Sınıflar']\n",
    "\n",
    "# Veri setinin sütun başlıkları güncellenir\n",
    "dataFrame.columns = column_names\n",
    "dataFrame.columns"
   ]
  },
  {
   "cell_type": "code",
   "execution_count": 4,
   "metadata": {},
   "outputs": [
    {
     "data": {
      "text/html": [
       "<div>\n",
       "<style scoped>\n",
       "    .dataframe tbody tr th:only-of-type {\n",
       "        vertical-align: middle;\n",
       "    }\n",
       "\n",
       "    .dataframe tbody tr th {\n",
       "        vertical-align: top;\n",
       "    }\n",
       "\n",
       "    .dataframe thead th {\n",
       "        text-align: right;\n",
       "    }\n",
       "</style>\n",
       "<table border=\"1\" class=\"dataframe\">\n",
       "  <thead>\n",
       "    <tr style=\"text-align: right;\">\n",
       "      <th></th>\n",
       "      <th>beyaz_kral_dikey</th>\n",
       "      <th>beyaz_kral_yatay</th>\n",
       "      <th>beyaz_kale_dikey</th>\n",
       "      <th>beyaz_kale_yatay</th>\n",
       "      <th>siyah_kral_dikey</th>\n",
       "      <th>siyah_kral_yatay</th>\n",
       "      <th>Sınıflar</th>\n",
       "    </tr>\n",
       "  </thead>\n",
       "  <tbody>\n",
       "    <tr>\n",
       "      <th>0</th>\n",
       "      <td>a</td>\n",
       "      <td>1</td>\n",
       "      <td>b</td>\n",
       "      <td>3</td>\n",
       "      <td>c</td>\n",
       "      <td>2</td>\n",
       "      <td>draw</td>\n",
       "    </tr>\n",
       "    <tr>\n",
       "      <th>1</th>\n",
       "      <td>a</td>\n",
       "      <td>1</td>\n",
       "      <td>c</td>\n",
       "      <td>1</td>\n",
       "      <td>c</td>\n",
       "      <td>2</td>\n",
       "      <td>draw</td>\n",
       "    </tr>\n",
       "    <tr>\n",
       "      <th>2</th>\n",
       "      <td>a</td>\n",
       "      <td>1</td>\n",
       "      <td>c</td>\n",
       "      <td>1</td>\n",
       "      <td>d</td>\n",
       "      <td>1</td>\n",
       "      <td>draw</td>\n",
       "    </tr>\n",
       "    <tr>\n",
       "      <th>3</th>\n",
       "      <td>a</td>\n",
       "      <td>1</td>\n",
       "      <td>c</td>\n",
       "      <td>1</td>\n",
       "      <td>d</td>\n",
       "      <td>2</td>\n",
       "      <td>draw</td>\n",
       "    </tr>\n",
       "    <tr>\n",
       "      <th>4</th>\n",
       "      <td>a</td>\n",
       "      <td>1</td>\n",
       "      <td>c</td>\n",
       "      <td>2</td>\n",
       "      <td>c</td>\n",
       "      <td>1</td>\n",
       "      <td>draw</td>\n",
       "    </tr>\n",
       "  </tbody>\n",
       "</table>\n",
       "</div>"
      ],
      "text/plain": [
       "  beyaz_kral_dikey  beyaz_kral_yatay beyaz_kale_dikey  beyaz_kale_yatay  \\\n",
       "0                a                 1                b                 3   \n",
       "1                a                 1                c                 1   \n",
       "2                a                 1                c                 1   \n",
       "3                a                 1                c                 1   \n",
       "4                a                 1                c                 2   \n",
       "\n",
       "  siyah_kral_dikey  siyah_kral_yatay Sınıflar  \n",
       "0                c                 2     draw  \n",
       "1                c                 2     draw  \n",
       "2                d                 1     draw  \n",
       "3                d                 2     draw  \n",
       "4                c                 1     draw  "
      ]
     },
     "execution_count": 4,
     "metadata": {},
     "output_type": "execute_result"
    }
   ],
   "source": [
    "dataFrame.head()"
   ]
  },
  {
   "cell_type": "code",
   "execution_count": 5,
   "metadata": {},
   "outputs": [
    {
     "data": {
      "text/html": [
       "<div>\n",
       "<style scoped>\n",
       "    .dataframe tbody tr th:only-of-type {\n",
       "        vertical-align: middle;\n",
       "    }\n",
       "\n",
       "    .dataframe tbody tr th {\n",
       "        vertical-align: top;\n",
       "    }\n",
       "\n",
       "    .dataframe thead th {\n",
       "        text-align: right;\n",
       "    }\n",
       "</style>\n",
       "<table border=\"1\" class=\"dataframe\">\n",
       "  <thead>\n",
       "    <tr style=\"text-align: right;\">\n",
       "      <th></th>\n",
       "      <th>beyaz_kral_dikey</th>\n",
       "      <th>beyaz_kral_yatay</th>\n",
       "      <th>beyaz_kale_dikey</th>\n",
       "      <th>beyaz_kale_yatay</th>\n",
       "      <th>siyah_kral_dikey</th>\n",
       "      <th>siyah_kral_yatay</th>\n",
       "      <th>Sınıflar</th>\n",
       "    </tr>\n",
       "  </thead>\n",
       "  <tbody>\n",
       "    <tr>\n",
       "      <th>3504</th>\n",
       "      <td>d</td>\n",
       "      <td>1</td>\n",
       "      <td>e</td>\n",
       "      <td>3</td>\n",
       "      <td>h</td>\n",
       "      <td>1</td>\n",
       "      <td>five</td>\n",
       "    </tr>\n",
       "    <tr>\n",
       "      <th>1049</th>\n",
       "      <td>c</td>\n",
       "      <td>1</td>\n",
       "      <td>g</td>\n",
       "      <td>3</td>\n",
       "      <td>h</td>\n",
       "      <td>4</td>\n",
       "      <td>draw</td>\n",
       "    </tr>\n",
       "    <tr>\n",
       "      <th>19698</th>\n",
       "      <td>d</td>\n",
       "      <td>1</td>\n",
       "      <td>e</td>\n",
       "      <td>2</td>\n",
       "      <td>b</td>\n",
       "      <td>3</td>\n",
       "      <td>thirteen</td>\n",
       "    </tr>\n",
       "    <tr>\n",
       "      <th>23731</th>\n",
       "      <td>c</td>\n",
       "      <td>2</td>\n",
       "      <td>b</td>\n",
       "      <td>6</td>\n",
       "      <td>b</td>\n",
       "      <td>4</td>\n",
       "      <td>fourteen</td>\n",
       "    </tr>\n",
       "    <tr>\n",
       "      <th>15932</th>\n",
       "      <td>d</td>\n",
       "      <td>2</td>\n",
       "      <td>h</td>\n",
       "      <td>4</td>\n",
       "      <td>f</td>\n",
       "      <td>8</td>\n",
       "      <td>twelve</td>\n",
       "    </tr>\n",
       "  </tbody>\n",
       "</table>\n",
       "</div>"
      ],
      "text/plain": [
       "      beyaz_kral_dikey  beyaz_kral_yatay beyaz_kale_dikey  beyaz_kale_yatay  \\\n",
       "3504                 d                 1                e                 3   \n",
       "1049                 c                 1                g                 3   \n",
       "19698                d                 1                e                 2   \n",
       "23731                c                 2                b                 6   \n",
       "15932                d                 2                h                 4   \n",
       "\n",
       "      siyah_kral_dikey  siyah_kral_yatay  Sınıflar  \n",
       "3504                 h                 1      five  \n",
       "1049                 h                 4      draw  \n",
       "19698                b                 3  thirteen  \n",
       "23731                b                 4  fourteen  \n",
       "15932                f                 8    twelve  "
      ]
     },
     "execution_count": 5,
     "metadata": {},
     "output_type": "execute_result"
    }
   ],
   "source": [
    "dataFrame.sample(5)     #Rastgele 5 gözlemi görüntüler"
   ]
  },
  {
   "cell_type": "markdown",
   "metadata": {},
   "source": [
    "## 2. Adım: Veri Setinin Keşfi Ve Analizi"
   ]
  },
  {
   "cell_type": "code",
   "execution_count": 6,
   "metadata": {},
   "outputs": [
    {
     "name": "stdout",
     "output_type": "stream",
     "text": [
      "(28056, 7)\n",
      "196392\n"
     ]
    }
   ],
   "source": [
    "print(dataFrame.shape)  # veri setindeki satır ve sütun sayısı\n",
    "print(dataFrame.size)   # veri setindeki toplam hücre sayısı"
   ]
  },
  {
   "cell_type": "code",
   "execution_count": 7,
   "metadata": {},
   "outputs": [
    {
     "data": {
      "text/html": [
       "<div>\n",
       "<style scoped>\n",
       "    .dataframe tbody tr th:only-of-type {\n",
       "        vertical-align: middle;\n",
       "    }\n",
       "\n",
       "    .dataframe tbody tr th {\n",
       "        vertical-align: top;\n",
       "    }\n",
       "\n",
       "    .dataframe thead th {\n",
       "        text-align: right;\n",
       "    }\n",
       "</style>\n",
       "<table border=\"1\" class=\"dataframe\">\n",
       "  <thead>\n",
       "    <tr style=\"text-align: right;\">\n",
       "      <th></th>\n",
       "      <th>beyaz_kral_yatay</th>\n",
       "      <th>beyaz_kale_yatay</th>\n",
       "      <th>siyah_kral_yatay</th>\n",
       "    </tr>\n",
       "  </thead>\n",
       "  <tbody>\n",
       "    <tr>\n",
       "      <th>count</th>\n",
       "      <td>28056.000000</td>\n",
       "      <td>28056.000000</td>\n",
       "      <td>28056.000000</td>\n",
       "    </tr>\n",
       "    <tr>\n",
       "      <th>mean</th>\n",
       "      <td>1.854006</td>\n",
       "      <td>4.512404</td>\n",
       "      <td>4.451811</td>\n",
       "    </tr>\n",
       "    <tr>\n",
       "      <th>std</th>\n",
       "      <td>0.926414</td>\n",
       "      <td>2.282723</td>\n",
       "      <td>2.248387</td>\n",
       "    </tr>\n",
       "    <tr>\n",
       "      <th>min</th>\n",
       "      <td>1.000000</td>\n",
       "      <td>1.000000</td>\n",
       "      <td>1.000000</td>\n",
       "    </tr>\n",
       "    <tr>\n",
       "      <th>25%</th>\n",
       "      <td>1.000000</td>\n",
       "      <td>3.000000</td>\n",
       "      <td>3.000000</td>\n",
       "    </tr>\n",
       "    <tr>\n",
       "      <th>50%</th>\n",
       "      <td>2.000000</td>\n",
       "      <td>5.000000</td>\n",
       "      <td>4.000000</td>\n",
       "    </tr>\n",
       "    <tr>\n",
       "      <th>75%</th>\n",
       "      <td>2.000000</td>\n",
       "      <td>6.000000</td>\n",
       "      <td>6.000000</td>\n",
       "    </tr>\n",
       "    <tr>\n",
       "      <th>max</th>\n",
       "      <td>4.000000</td>\n",
       "      <td>8.000000</td>\n",
       "      <td>8.000000</td>\n",
       "    </tr>\n",
       "  </tbody>\n",
       "</table>\n",
       "</div>"
      ],
      "text/plain": [
       "       beyaz_kral_yatay  beyaz_kale_yatay  siyah_kral_yatay\n",
       "count      28056.000000      28056.000000      28056.000000\n",
       "mean           1.854006          4.512404          4.451811\n",
       "std            0.926414          2.282723          2.248387\n",
       "min            1.000000          1.000000          1.000000\n",
       "25%            1.000000          3.000000          3.000000\n",
       "50%            2.000000          5.000000          4.000000\n",
       "75%            2.000000          6.000000          6.000000\n",
       "max            4.000000          8.000000          8.000000"
      ]
     },
     "execution_count": 7,
     "metadata": {},
     "output_type": "execute_result"
    }
   ],
   "source": [
    "dataFrame.describe()   # Veri setinin temel istatistiksel özetini sağlar."
   ]
  },
  {
   "cell_type": "code",
   "execution_count": 8,
   "metadata": {},
   "outputs": [
    {
     "data": {
      "text/plain": [
       "beyaz_kral_dikey    object\n",
       "beyaz_kral_yatay     int64\n",
       "beyaz_kale_dikey    object\n",
       "beyaz_kale_yatay     int64\n",
       "siyah_kral_dikey    object\n",
       "siyah_kral_yatay     int64\n",
       "Sınıflar            object\n",
       "dtype: object"
      ]
     },
     "execution_count": 8,
     "metadata": {},
     "output_type": "execute_result"
    }
   ],
   "source": [
    "dataFrame.dtypes   # Veri setindeki sütunların veri tiplerini görüntüler"
   ]
  },
  {
   "cell_type": "code",
   "execution_count": 9,
   "metadata": {},
   "outputs": [
    {
     "name": "stdout",
     "output_type": "stream",
     "text": [
      "<class 'pandas.core.frame.DataFrame'>\n",
      "RangeIndex: 28056 entries, 0 to 28055\n",
      "Data columns (total 7 columns):\n",
      " #   Column            Non-Null Count  Dtype \n",
      "---  ------            --------------  ----- \n",
      " 0   beyaz_kral_dikey  28056 non-null  object\n",
      " 1   beyaz_kral_yatay  28056 non-null  int64 \n",
      " 2   beyaz_kale_dikey  28056 non-null  object\n",
      " 3   beyaz_kale_yatay  28056 non-null  int64 \n",
      " 4   siyah_kral_dikey  28056 non-null  object\n",
      " 5   siyah_kral_yatay  28056 non-null  int64 \n",
      " 6   Sınıflar          28056 non-null  object\n",
      "dtypes: int64(3), object(4)\n",
      "memory usage: 1.5+ MB\n"
     ]
    }
   ],
   "source": [
    "dataFrame.info()"
   ]
  },
  {
   "cell_type": "code",
   "execution_count": 10,
   "metadata": {},
   "outputs": [
    {
     "data": {
      "text/plain": [
       "beyaz_kral_dikey    0\n",
       "beyaz_kral_yatay    0\n",
       "beyaz_kale_dikey    0\n",
       "beyaz_kale_yatay    0\n",
       "siyah_kral_dikey    0\n",
       "siyah_kral_yatay    0\n",
       "Sınıflar            0\n",
       "dtype: int64"
      ]
     },
     "execution_count": 10,
     "metadata": {},
     "output_type": "execute_result"
    }
   ],
   "source": [
    "dataFrame.isnull().sum()   #Veri setindeki eksik değerleri kontrol eder"
   ]
  },
  {
   "cell_type": "markdown",
   "metadata": {},
   "source": [
    "## 3.Adım: Veri Setinin Görselleştirilmesi\n",
    "Bu adım, veri seti hakkında genel bir fikir edinmemize yardımcı olabilir."
   ]
  },
  {
   "cell_type": "markdown",
   "metadata": {},
   "source": [
    "- Sınıf Dağılımının Görselleştirilmesi: Sınıfların dağılımını inceleyerek, hangi oyun sonu senaryolarının daha yaygın olduğu ve hangi senaryoların daha nadir olduğu belirlenebilir. "
   ]
  },
  {
   "cell_type": "code",
   "execution_count": 11,
   "metadata": {},
   "outputs": [],
   "source": [
    "classCounts = dataFrame['Sınıflar'].value_counts()"
   ]
  },
  {
   "cell_type": "code",
   "execution_count": 12,
   "metadata": {},
   "outputs": [
    {
     "data": {
      "text/plain": [
       "array([4553, 4194, 3597, 2854, 2796, 2166, 1985, 1712, 1433,  683,  592,\n",
       "        471,  390,  246,  198,   81,   78,   27], dtype=int64)"
      ]
     },
     "execution_count": 12,
     "metadata": {},
     "output_type": "execute_result"
    }
   ],
   "source": [
    "classCounts.values"
   ]
  },
  {
   "cell_type": "code",
   "execution_count": 13,
   "metadata": {},
   "outputs": [
    {
     "data": {
      "image/png": "[encoded data removed]",
      "text/plain": [
       "<Figure size 504x504 with 1 Axes>"
      ]
     },
     "metadata": {},
     "output_type": "display_data"
    }
   ],
   "source": [
    "# Pie Chart\n",
    "plt.figure(figsize=(7, 7))\n",
    "labels = classCounts.index  # Sınıf etiketleri\n",
    "sizes = classCounts.values  # Frekans değerleri\n",
    "\n",
    "plt.pie(sizes, labels=labels, autopct='%1.1f%%')\n",
    "plt.axis('equal')  # Eşit oranda dağıtılmasını sağlar\n",
    "plt.title('Sınıf Dağılımı')\n",
    "plt.show()"
   ]
  },
  {
   "cell_type": "code",
   "execution_count": 14,
   "metadata": {
    "scrolled": false
   },
   "outputs": [
    {
     "data": {
      "image/png": "[encoded data removed]",
      "text/plain": [
       "<Figure size 864x432 with 1 Axes>"
      ]
     },
     "metadata": {
      "needs_background": "light"
     },
     "output_type": "display_data"
    }
   ],
   "source": [
    "# Histogram\n",
    "plt.figure(figsize=(12, 6))\n",
    "plt.hist(dataFrame['Sınıflar'], bins='auto', edgecolor='black')\n",
    "plt.xlabel('Sınıflar')\n",
    "plt.ylabel('Frekans')\n",
    "plt.title('Sınıf Dağılımı')\n",
    "plt.show()"
   ]
  },
  {
   "cell_type": "code",
   "execution_count": 15,
   "metadata": {},
   "outputs": [
    {
     "data": {
      "image/png": "[encoded data removed]",
      "text/plain": [
       "<Figure size 720x432 with 1 Axes>"
      ]
     },
     "metadata": {
      "needs_background": "light"
     },
     "output_type": "display_data"
    }
   ],
   "source": [
    "# Sınıf dağılımını hesaplayın\n",
    "class_distribution = dataFrame[\"Sınıflar\"].value_counts()\n",
    "\n",
    "# Sınıf dağılımını görselleştirin\n",
    "plt.figure(figsize=(10, 6))\n",
    "class_distribution.plot(kind=\"bar\")\n",
    "plt.title(\"Sınıf Dağılımı\")\n",
    "plt.xlabel(\"Sınıflar\")\n",
    "plt.ylabel(\"Örnek Sayısı\")\n",
    "plt.show()"
   ]
  },
  {
   "cell_type": "markdown",
   "metadata": {},
   "source": [
    "- Değişkenler Arasındaki İlişkinin Görselleştirilmesi:"
   ]
  },
  {
   "cell_type": "code",
   "execution_count": 16,
   "metadata": {
    "scrolled": true
   },
   "outputs": [
    {
     "data": {
      "text/plain": [
       "<seaborn.axisgrid.PairGrid at 0x21d52094a60>"
      ]
     },
     "execution_count": 16,
     "metadata": {},
     "output_type": "execute_result"
    },
    {
     "data": {
      "image/png": "[encoded data removed]",
      "text/plain": [
       "<Figure size 540x540 with 12 Axes>"
      ]
     },
     "metadata": {
      "needs_background": "light"
     },
     "output_type": "display_data"
    }
   ],
   "source": [
    "sbn.pairplot(dataFrame)   # Değişkenler arasındaki ilişkiyi görselleştirir. "
   ]
  },
  {
   "cell_type": "code",
   "execution_count": 17,
   "metadata": {},
   "outputs": [
    {
     "data": {
      "image/png": "[encoded data removed]",
      "text/plain": [
       "<Figure size 432x288 with 2 Axes>"
      ]
     },
     "metadata": {
      "needs_background": "light"
     },
     "output_type": "display_data"
    }
   ],
   "source": [
    "# Korelasyon matrisini hesaplama\n",
    "correlation_matrix = dataFrame.corr()\n",
    "\n",
    "# Isı haritasını çizme\n",
    "sbn.heatmap(correlation_matrix, annot=True)\n",
    "\n",
    "# Grafiği başlıklandırma\n",
    "plt.title('Korelasyon Matrisi')\n",
    "\n",
    "# Grafiği gösterme\n",
    "plt.show()"
   ]
  },
  {
   "cell_type": "markdown",
   "metadata": {},
   "source": [
    "## 4.Adım: Veri Önişleme\n",
    "Veri ön işleme, veri setinin kalitesini artırmak, uygun bir formata getirmek ve modelin daha iyi performans göstermesini sağlamak amacıyla yapılır.Label encoding, veri analizinde veri ön işleme adımlarından biridir. Veri setinde bulunan kategorik özniteliklerin sayısal değerlere dönüştürülmesini sağlar. Bu adımda, kategorik özniteliklerin her bir kategori değeri, bir sayıya atanır ve bu sayılar veri setindeki ilgili öznitelik değerlerinin yerini alır. Bu sayede, kategorik veriler sayısal olarak temsil edilir ve analiz veya modelleme sürecinde kullanılabilir hale gelir. "
   ]
  },
  {
   "cell_type": "code",
   "execution_count": 18,
   "metadata": {},
   "outputs": [],
   "source": [
    "from sklearn.preprocessing import LabelEncoder\n",
    "\n",
    "# Veri setindeki kategorik öznitelikleri içeren bir liste oluşturulur.\n",
    "kategorik_oznitelikler = ['beyaz_kral_dikey', 'beyaz_kale_dikey', 'siyah_kral_dikey']\n",
    "\n",
    "# LabelEncoder sınıfını kullanarak dönüşüm yapmak için bir nesne oluşturulur.\n",
    "label_encoder = LabelEncoder()\n",
    "\n",
    "# Kategorik öznitelikler dönüştürülür.\n",
    "for oznitelik in kategorik_oznitelikler:\n",
    "    dataFrame[oznitelik] = label_encoder.fit_transform(dataFrame[oznitelik])\n"
   ]
  },
  {
   "cell_type": "code",
   "execution_count": 19,
   "metadata": {},
   "outputs": [
    {
     "data": {
      "text/html": [
       "<div>\n",
       "<style scoped>\n",
       "    .dataframe tbody tr th:only-of-type {\n",
       "        vertical-align: middle;\n",
       "    }\n",
       "\n",
       "    .dataframe tbody tr th {\n",
       "        vertical-align: top;\n",
       "    }\n",
       "\n",
       "    .dataframe thead th {\n",
       "        text-align: right;\n",
       "    }\n",
       "</style>\n",
       "<table border=\"1\" class=\"dataframe\">\n",
       "  <thead>\n",
       "    <tr style=\"text-align: right;\">\n",
       "      <th></th>\n",
       "      <th>beyaz_kral_dikey</th>\n",
       "      <th>beyaz_kral_yatay</th>\n",
       "      <th>beyaz_kale_dikey</th>\n",
       "      <th>beyaz_kale_yatay</th>\n",
       "      <th>siyah_kral_dikey</th>\n",
       "      <th>siyah_kral_yatay</th>\n",
       "      <th>Sınıflar</th>\n",
       "    </tr>\n",
       "  </thead>\n",
       "  <tbody>\n",
       "    <tr>\n",
       "      <th>0</th>\n",
       "      <td>0</td>\n",
       "      <td>1</td>\n",
       "      <td>1</td>\n",
       "      <td>3</td>\n",
       "      <td>2</td>\n",
       "      <td>2</td>\n",
       "      <td>draw</td>\n",
       "    </tr>\n",
       "    <tr>\n",
       "      <th>1</th>\n",
       "      <td>0</td>\n",
       "      <td>1</td>\n",
       "      <td>2</td>\n",
       "      <td>1</td>\n",
       "      <td>2</td>\n",
       "      <td>2</td>\n",
       "      <td>draw</td>\n",
       "    </tr>\n",
       "    <tr>\n",
       "      <th>2</th>\n",
       "      <td>0</td>\n",
       "      <td>1</td>\n",
       "      <td>2</td>\n",
       "      <td>1</td>\n",
       "      <td>3</td>\n",
       "      <td>1</td>\n",
       "      <td>draw</td>\n",
       "    </tr>\n",
       "    <tr>\n",
       "      <th>3</th>\n",
       "      <td>0</td>\n",
       "      <td>1</td>\n",
       "      <td>2</td>\n",
       "      <td>1</td>\n",
       "      <td>3</td>\n",
       "      <td>2</td>\n",
       "      <td>draw</td>\n",
       "    </tr>\n",
       "    <tr>\n",
       "      <th>4</th>\n",
       "      <td>0</td>\n",
       "      <td>1</td>\n",
       "      <td>2</td>\n",
       "      <td>2</td>\n",
       "      <td>2</td>\n",
       "      <td>1</td>\n",
       "      <td>draw</td>\n",
       "    </tr>\n",
       "  </tbody>\n",
       "</table>\n",
       "</div>"
      ],
      "text/plain": [
       "   beyaz_kral_dikey  beyaz_kral_yatay  beyaz_kale_dikey  beyaz_kale_yatay  \\\n",
       "0                 0                 1                 1                 3   \n",
       "1                 0                 1                 2                 1   \n",
       "2                 0                 1                 2                 1   \n",
       "3                 0                 1                 2                 1   \n",
       "4                 0                 1                 2                 2   \n",
       "\n",
       "   siyah_kral_dikey  siyah_kral_yatay Sınıflar  \n",
       "0                 2                 2     draw  \n",
       "1                 2                 2     draw  \n",
       "2                 3                 1     draw  \n",
       "3                 3                 2     draw  \n",
       "4                 2                 1     draw  "
      ]
     },
     "execution_count": 19,
     "metadata": {},
     "output_type": "execute_result"
    }
   ],
   "source": [
    "# Dönüşümü tamamladıktan sonra güncellenmiş veri seti kontrol edilir.\n",
    "dataFrame.head()"
   ]
  },
  {
   "cell_type": "markdown",
   "metadata": {},
   "source": [
    "## 5.Adım: Veri Setinin Bölünmesi\n",
    "Bu adımda veri seti eğitim ve test verileri olarak ikiye ayrılır. "
   ]
  },
  {
   "cell_type": "code",
   "execution_count": 20,
   "metadata": {},
   "outputs": [],
   "source": [
    "from sklearn.model_selection import train_test_split"
   ]
  },
  {
   "cell_type": "code",
   "execution_count": 21,
   "metadata": {},
   "outputs": [],
   "source": [
    "from sklearn.model_selection import train_test_split\n",
    "\n",
    "# Öznitelikler ve hedef değişkeni ayrıştırma\n",
    "X = dataFrame.drop('Sınıflar', axis=1)  # Öznitelikler\n",
    "y = dataFrame['Sınıflar']  # Hedef değişken\n",
    "\n",
    "# Veri seti eğitim ve test setlerine bölünür.\n",
    "X_train, X_test, y_train, y_test = train_test_split(X, y, test_size=0.2, random_state=42)\n"
   ]
  },
  {
   "cell_type": "markdown",
   "metadata": {},
   "source": [
    "## 6.Adım: Karar Ağacı Modelini Oluşturma ve Eğitme"
   ]
  },
  {
   "cell_type": "code",
   "execution_count": 22,
   "metadata": {},
   "outputs": [],
   "source": [
    "from sklearn.tree import DecisionTreeClassifier\n",
    "\n",
    "# Karar Ağacı sınıflandırıcısı oluşturulur.\n",
    "model = DecisionTreeClassifier()\n",
    "\n",
    "# Model eğitilir.\n",
    "model.fit(X_train, y_train)\n",
    "\n",
    "# Test verileri üzerinde tahmin yapılır.\n",
    "y_predict=model.predict(X_test)"
   ]
  },
  {
   "cell_type": "markdown",
   "metadata": {},
   "source": [
    "## 7.Adım: Karar Ağacı Modelinin Değerlendirilmesi\n",
    "Modelin performansının değerlendirildiği adımdır. Bu adımda, Accuracy, sensitivity, specificity, F-measure gibi ölçütler kullanılmıştır."
   ]
  },
  {
   "cell_type": "code",
   "execution_count": 23,
   "metadata": {},
   "outputs": [
    {
     "name": "stdout",
     "output_type": "stream",
     "text": [
      "Accuracy: 0.8499643620812545\n",
      "Precision: 0.862096590977208\n",
      "Recall: 0.8649920726948842\n",
      "F1 Score: 0.8596236748873494\n"
     ]
    }
   ],
   "source": [
    "from sklearn.metrics import accuracy_score,precision_score, recall_score, f1_score\n",
    "\n",
    "accuracy = accuracy_score(y_test, y_predict)\n",
    "precision = precision_score(y_test, y_predict,average='macro')\n",
    "recall = recall_score(y_test, y_predict,average='macro')\n",
    "f1 = f1_score(y_test, y_predict,average='macro')\n",
    "\n",
    "print(\"Accuracy:\", accuracy)\n",
    "print(\"Precision:\", precision)\n",
    "print(\"Recall:\", recall)\n",
    "print(\"F1 Score:\",f1)"
   ]
  },
  {
   "cell_type": "code",
   "execution_count": 24,
   "metadata": {},
   "outputs": [
    {
     "data": {
      "image/png": "[encoded data removed]",
      "text/plain": [
       "<Figure size 432x288 with 1 Axes>"
      ]
     },
     "metadata": {
      "needs_background": "light"
     },
     "output_type": "display_data"
    }
   ],
   "source": [
    "# Metrik değerleri ve etiketleri\n",
    "metrics = ['Accuracy', 'Precision', 'Recall', 'F1-Score']\n",
    "values = [accuracy, precision, recall, f1]\n",
    "\n",
    "# Çubuk grafiği oluşturma\n",
    "plt.bar(metrics, values)\n",
    "plt.xlabel('Metrik')\n",
    "plt.ylabel('Değer')\n",
    "plt.title('Performans Metrikleri')\n",
    "plt.show()"
   ]
  },
  {
   "cell_type": "code",
   "execution_count": 25,
   "metadata": {},
   "outputs": [
    {
     "name": "stdout",
     "output_type": "stream",
     "text": [
      "Karmaşıklık Matrisi:\n",
      "[[405  11  23  25   2   0  15  11   0   8   4   5  12  16   0  11   1   0]\n",
      " [  8 249   1   0   0   0   0  12   0  14   1   0   1   1   0   0   0   0]\n",
      " [ 13   1 506   1   0   0   3   8   0   0   0   0  21  13   0  43   0   0]\n",
      " [ 11   0   1 355   0   0  29   0   0   0   0   8   0   2   0   0   0   0]\n",
      " [  0   1   0   0  87   0   0   0   1   0   1   0   0   0   2   0   0   0]\n",
      " [  2   0   0   0   3  31   0   0   0   0   1   0   1   0   3   0   0   0]\n",
      " [  8   0   0  35   0   0 828   0   0   0   0   0   1  45   0   5   0   0]\n",
      " [  7  12   7   0   0   0   0 294   1   0   2   0  19   0   0   4   0   0]\n",
      " [  0   1   0   0   0   0   0   0  20   0   0   0   0   0   0   0   1   0]\n",
      " [  4   9   0   1   1   0   0   3   0 104   5   0   0   0   0   2   0   0]\n",
      " [  2   2   0   0   0   0   0   0   0   7 117   0   0   0   0   0   0   0]\n",
      " [  2   0   0   7   0   0   0   0   0   0   0  67   0   0   0   0   0   0]\n",
      " [  6   1  25   0   0   0   0  17   0   1   2   0 315   0   0   4   0   0]\n",
      " [  8   0  11   2   1   0  57   4   0   0   0   0   0 692   0  46   0   0]\n",
      " [  0   0   0   0   0   0   0   0   0   0   0   0   0   0  12   0   0   0]\n",
      " [ 17   2  35   0   0   0   6   2   0   0   0   0   8  38   0 638   0   0]\n",
      " [  2   0   0   0   0   0   0   0   0   0   0   0   0   0   2   0  45   0]\n",
      " [  1   0   0   0   0   0   0   0   0   0   0   0   0   0   0   0   0   5]]\n"
     ]
    }
   ],
   "source": [
    "# Modelin sınıflandırma sonuçlarını gerçek değerlerle karşılaştırmak için karmaşıklık matrisi kullanılır.\n",
    "from sklearn.metrics import confusion_matrix\n",
    "\n",
    "# Karmaşıklık matrisini oluşturma\n",
    "cm = confusion_matrix(y_test, y_predict)\n",
    "\n",
    "print(\"Karmaşıklık Matrisi:\")\n",
    "print(cm)\n"
   ]
  }
 ],
 "metadata": {
  "kernelspec": {
   "display_name": "Python 3",
   "language": "python",
   "name": "python3"
  },
  "language_info": {
   "codemirror_mode": {
    "name": "ipython",
    "version": 3
   },
   "file_extension": ".py",
   "mimetype": "text/x-python",
   "name": "python",
   "nbconvert_exporter": "python",
   "pygments_lexer": "ipython3",
   "version": "3.8.5"
  }
 },
 "nbformat": 4,
 "nbformat_minor": 4
}
